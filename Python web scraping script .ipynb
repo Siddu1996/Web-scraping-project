{
 "cells": [
  {
   "cell_type": "markdown",
   "id": "cfcf503e",
   "metadata": {},
   "source": [
    "#### **This script gets the list of Most Actives ticker symbols from the https://money.cnn.com/data/hotstocks/ website and data related to symbols such as open price, volume and pe ratio from https://www.google.com/finance/quote/Symbol:NYSE website. It also stores the data in stocks.txt(Text file) and StocksDatabase.db(Database file) file.**\n",
    "\n",
    "#### Details of data which is collected from both websites:\n",
    "1. Ticker Symb: It is a text value of most actives ticker symbols. For example: F represents symbol for Ford Motor Co.\n",
    "2. OpenPrice: It is a value of open price of symbol. For example: DAY RANGE value of F is $18.61-$19.49. So, open price of F will be $18.61.\n",
    "3. Volume: It is the value of volume of symbol. For example: Volume of F is 107.59M which is equivalent to 107590000.\n",
    "4. P/E Ratio: It is the value of pe ratio of symbol. For example: P/E Ratio of F is 27.27."
   ]
  },
  {
   "cell_type": "code",
   "execution_count": 1,
   "id": "3a7d8ff3",
   "metadata": {
    "scrolled": true
   },
   "outputs": [
    {
     "name": "stdout",
     "output_type": "stream",
     "text": [
      "status code of https://money.cnn.com/data/hotstocks/ is: 200\n",
      "Text file stocks.txt is successfully created\n",
      "Database is successfully created and connected to Sqlite\n",
      "Data is successfully inserted in stocks.txt and StocksDatabase.db\n",
      "StocksDatabase.db Database records are:  [('F', 15.57, 65, 5.28), ('BAC', 34.48, 35, 10.42), ('CCL', 9.71, 50, -1.0), ('T', 17.61, 35, 6.34), ('OXY', 70.9, 25, 6.76), ('VZ', 42.21, 20, 8.29), ('NCLH', 13.52, 18, -1.0), ('XOM', 96.79, 18, 10.44), ('HPE', 13.62, 10, 4.73), ('C', 50.15, 14, 6.24), ('F', 15.06, 65239999, 5.28), ('BAC', 33.27, 35300000, 10.42), ('CCL', 9.27, 50620000, None), ('T', 17.16, 35670000, 6.34), ('OXY', 68.27, 25070000, 6.76), ('VZ', 41.15, 20380000, 8.29), ('NCLH', 12.86, 18880000, None), ('XOM', 95.11, 18580000, 10.44), ('HPE', 13.18, 10500000, 4.73), ('C', 48.62, 14920000, 6.24)]\n",
      "Sqlite database connection is closed\n"
     ]
    }
   ],
   "source": [
    "#Imported Libraries and Modules\n",
    "from bs4 import BeautifulSoup   #Used BeautifulSoup module for web scrapping\n",
    "import requests                 #Used requests module for sending HTTP requests and to get response data\n",
    "import re                       #Used re module for using regular expressions\n",
    "import csv                      #Used csv module for generating file\n",
    "import sqlite3                  #Used sqlite3 module for connecting to a SQLite database\n",
    "\n",
    "\n",
    "\n",
    "symbol_doc=requests.get('https://money.cnn.com/data/hotstocks/') \n",
    "print(\"status code of https://money.cnn.com/data/hotstocks/ is:\", symbol_doc.status_code)  #Get status code of the tickers url\n",
    "soup=BeautifulSoup(symbol_doc.text, 'html.parser')  #Parsing HTML page\n",
    "ma_tab=soup.find('table', class_='wsod_dataTable wsod_dataTableBigAlt')\n",
    "ma_dic={}  #Initialized a dictionary\n",
    "for i in ma_tab.find_all('a', class_='wsod_symbol'):  #Finding Most Active ticker symbol in ma_tab  \n",
    "    st=i.text\n",
    "    url_1='https://money.cnn.com/' + i.get('href')  #This will give the url with proper formatted symbol \n",
    "    ma_dic[st]=url_1                                #Storing symbols with url in dictionary\n",
    "\n",
    "#This format \"https://www.google.com/finance/quote/F\" (Where F is Ford Motor Co) is not accepted by Google Finance\n",
    "#Google Finance accepts format \"https://www.google.com/finance/quote/F:NYSE\"\n",
    "for sy, url_ma in ma_dic.items():\n",
    "    soup=BeautifulSoup(requests.get(url_ma).text, 'html.parser')  #Parsing HTML page               \n",
    "    tic_txt=soup.find('span', class_='wsod_smallSubHeading')    \n",
    "    j=':'.join(re.sub(r'[\\(\\)]', '', tic_txt.text).split(\":\")[::-1]) #It will get the proper format (For example: F:NYSE) and store in a variable\n",
    "    ma_dic[sy]='https://www.google.com/finance/quote/' + j  #Storing google finance urls of symbols in dictionary\n",
    "\n",
    "stocks_dic={} #Initialized a dictionary\n",
    "\n",
    "for syl, url in ma_dic.items():\n",
    "    soup_1=BeautifulSoup(requests.get(url).text, 'html.parser')   #Parsing HTML page\n",
    "    gf_data=soup_1.find_all('div', class_='P6K39c')\n",
    "    openPrice=float(gf_data[1].text.split(' - ')[0].replace('$', ''))    #Retrieving open price from HTML page in float type\n",
    "    vol=float(float(gf_data[4].text.replace('M', '').replace(',', '')))  # Retrieving volume from HTML page in float type\n",
    "    #Converting volume to integer type by multiplying it by 1000000 (For Example volume of F is 107.59M=107590000)\n",
    "    volume=int(vol*1000000)  \n",
    "    \n",
    "    #Whenever the pe ratio is not there on webpage then it shows '-'. To counter this situation:\n",
    "    if gf_data[5].text!='-':  #If pe ratio is present then retrieve its value in float type\n",
    "        peRatio=float(gf_data[5].text)\n",
    "    else:\n",
    "        peRatio=\"NULL\"        #If pe ratio is not present then show \"NULL\"\n",
    "    stocks_dic[syl]={\"open_price\": openPrice,\"volume\": volume,\"pe_ratio\": peRatio} #Storing open price, volume and pe ratio in dictionary\n",
    "\n",
    "\n",
    "\n",
    "stocks_file=open('stocks.txt', 'w')     #Create stocks.txt file\n",
    "print(\"Text file stocks.txt is successfully created\")\n",
    "csv_writer=csv.writer(stocks_file)      #Used writer function of csv module to insert data in stocks.text file\n",
    "csv_writer.writerow(['TickerSymb', 'OpenPrice', 'Volume', 'PERatio']) #Used writerow function of csv module to insert data in row format in stocks.text file\n",
    "\n",
    "co=sqlite3.connect('StocksDatabase.db')   #Created StocksDatabase.db successfully\n",
    "cu=co.cursor()  #Created cursor object for executing the query and to fetch the record from the database\n",
    "print(\"Database is successfully created and connected to Sqlite\")   \n",
    "\n",
    "\n",
    "#Created StocksTable table in StocksDatabase.db database\n",
    "cu.execute('''CREATE TABLE IF NOT EXISTS StocksTable\n",
    "               (TickerSymb TEXT, OpenPrice REAL, Volume INTEGER, PERatio REAL)''')\n",
    "\n",
    "#Insert data in stocks.text file and StocksDatabase.db file\n",
    "for sm, data in stocks_dic.items():\n",
    "    csv_writer.writerow([str(sm), data['open_price'], data['volume'], data['pe_ratio']])\n",
    "    cu.execute('''\n",
    "        INSERT INTO StocksTable VALUES ('{}', {}, {}, {})\n",
    "    '''.format(sm, data['open_price'], data['volume'], data['pe_ratio'])\n",
    "    )   \n",
    "    \n",
    "print(\"Data is successfully inserted in stocks.txt and StocksDatabase.db\")\n",
    "\n",
    "#Display StocksDatabase.db file records\n",
    "cu.execute(\"SELECT * FROM StocksTable\")   #Used execute function to execute query\n",
    "res=cu.fetchall()  #Used fetchall function to retrieve the records from database file\n",
    "print(\"StocksDatabase.db Database records are: \", res)\n",
    "\n",
    " \n",
    "co.commit() #commit function of sqlite3 module is used to confirm the changes made to the database\n",
    "co.close()  #close function sqlite3 module is used to close the database connection \n",
    "stocks_file.close()  #close function of csv module is used to close the file.\n",
    "print(\"Sqlite database connection is closed\")\n"
   ]
  }
 ],
 "metadata": {
  "kernelspec": {
   "display_name": "Python 3 (ipykernel)",
   "language": "python",
   "name": "python3"
  },
  "language_info": {
   "codemirror_mode": {
    "name": "ipython",
    "version": 3
   },
   "file_extension": ".py",
   "mimetype": "text/x-python",
   "name": "python",
   "nbconvert_exporter": "python",
   "pygments_lexer": "ipython3",
   "version": "3.8.10"
  }
 },
 "nbformat": 4,
 "nbformat_minor": 5
}
